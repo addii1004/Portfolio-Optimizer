{
 "cells": [
  {
   "cell_type": "code",
   "execution_count": 101,
   "metadata": {},
   "outputs": [],
   "source": [
    "import pandas as pd\n",
    "import numpy as np\n",
    "import random\n",
    "import yfinance as yf"
   ]
  },
  {
   "cell_type": "markdown",
   "metadata": {},
   "source": [
    " When reading the CSV file, the stock value is assumed to be zero until the IPO is launched."
   ]
  },
  {
   "cell_type": "code",
   "execution_count": 2,
   "metadata": {},
   "outputs": [],
   "source": [
    "data = pd.read_csv('data.csv')\n",
    "data.replace(np.nan, 0, inplace = True)"
   ]
  },
  {
   "cell_type": "markdown",
   "metadata": {},
   "source": [
    "For the sample output, we have selected the stocks of Reliance Industries, SBI, Tata Motors, and HDFC Bank, with the initial investment date set to March 15, 2003, and an initial investment amount of ₹1000."
   ]
  },
  {
   "cell_type": "code",
   "execution_count": 103,
   "metadata": {},
   "outputs": [],
   "source": [
    "data_df = data[['Date','RELIANCE','SBIN', 'TATAMOTORS', 'HDFCBANK']]\n",
    "data_df.set_index(['Date'], inplace = True) \n",
    "Investment_date = '2001-03-15'\n",
    "initial_investment = 1000\n",
    "data_df = data_df.loc[Investment_date:]\n",
    "n = data_df.shape[1]"
   ]
  },
  {
   "cell_type": "markdown",
   "metadata": {},
   "source": [
    "A random allocation of weight distribution among the stocks has been generated for the sample case."
   ]
  },
  {
   "cell_type": "code",
   "execution_count": 37,
   "metadata": {},
   "outputs": [
    {
     "name": "stdout",
     "output_type": "stream",
     "text": [
      "[0.1602159  0.32719986 0.25197711 0.26060714]\n"
     ]
    }
   ],
   "source": [
    "def generate_portfolio_weights(n):\n",
    "    weights = []\n",
    "    for i in range(n):\n",
    "        weights.append(random.random())\n",
    "    weights = weights/np.sum(weights)\n",
    "    return weights\n",
    "weights = generate_portfolio_weights(n)\n",
    "print(weights)"
   ]
  },
  {
   "cell_type": "markdown",
   "metadata": {},
   "source": [
    "Defining a function that scales the stock value from the initial investment day, adjusting it daily."
   ]
  },
  {
   "cell_type": "code",
   "execution_count": 102,
   "metadata": {},
   "outputs": [],
   "source": [
    "def price_scaling(raw_prices_df):\n",
    "    scaled_prices_df = raw_prices_df.copy()\n",
    "    for i in raw_prices_df.columns[0:]:\n",
    "          scaled_prices_df[i] = raw_prices_df[i]/raw_prices_df[i].iloc[0]\n",
    "    return scaled_prices_df\n"
   ]
  },
  {
   "cell_type": "markdown",
   "metadata": {},
   "source": [
    "Scaled up the portfolio of the user."
   ]
  },
  {
   "cell_type": "code",
   "execution_count": 39,
   "metadata": {},
   "outputs": [
    {
     "data": {
      "text/html": [
       "<div>\n",
       "<style scoped>\n",
       "    .dataframe tbody tr th:only-of-type {\n",
       "        vertical-align: middle;\n",
       "    }\n",
       "\n",
       "    .dataframe tbody tr th {\n",
       "        vertical-align: top;\n",
       "    }\n",
       "\n",
       "    .dataframe thead th {\n",
       "        text-align: right;\n",
       "    }\n",
       "</style>\n",
       "<table border=\"1\" class=\"dataframe\">\n",
       "  <thead>\n",
       "    <tr style=\"text-align: right;\">\n",
       "      <th></th>\n",
       "      <th>RELIANCE</th>\n",
       "      <th>SBIN</th>\n",
       "      <th>TATAMOTORS</th>\n",
       "      <th>HDFCBANK</th>\n",
       "    </tr>\n",
       "    <tr>\n",
       "      <th>Date</th>\n",
       "      <th></th>\n",
       "      <th></th>\n",
       "      <th></th>\n",
       "      <th></th>\n",
       "    </tr>\n",
       "  </thead>\n",
       "  <tbody>\n",
       "    <tr>\n",
       "      <th>2001-03-15</th>\n",
       "      <td>1.000000</td>\n",
       "      <td>1.000000</td>\n",
       "      <td>1.000000</td>\n",
       "      <td>1.000000</td>\n",
       "    </tr>\n",
       "    <tr>\n",
       "      <th>2001-03-16</th>\n",
       "      <td>0.966646</td>\n",
       "      <td>0.987312</td>\n",
       "      <td>0.960552</td>\n",
       "      <td>0.959356</td>\n",
       "    </tr>\n",
       "    <tr>\n",
       "      <th>2001-03-19</th>\n",
       "      <td>0.962870</td>\n",
       "      <td>0.984986</td>\n",
       "      <td>0.984221</td>\n",
       "      <td>0.969053</td>\n",
       "    </tr>\n",
       "    <tr>\n",
       "      <th>2001-03-20</th>\n",
       "      <td>0.939836</td>\n",
       "      <td>0.978220</td>\n",
       "      <td>0.961867</td>\n",
       "      <td>0.946771</td>\n",
       "    </tr>\n",
       "    <tr>\n",
       "      <th>2001-03-21</th>\n",
       "      <td>1.010195</td>\n",
       "      <td>1.003595</td>\n",
       "      <td>0.972386</td>\n",
       "      <td>0.974417</td>\n",
       "    </tr>\n",
       "    <tr>\n",
       "      <th>...</th>\n",
       "      <td>...</td>\n",
       "      <td>...</td>\n",
       "      <td>...</td>\n",
       "      <td>...</td>\n",
       "    </tr>\n",
       "    <tr>\n",
       "      <th>2024-07-01</th>\n",
       "      <td>55.000571</td>\n",
       "      <td>37.739445</td>\n",
       "      <td>68.758327</td>\n",
       "      <td>70.361044</td>\n",
       "    </tr>\n",
       "    <tr>\n",
       "      <th>2024-07-02</th>\n",
       "      <td>55.177720</td>\n",
       "      <td>37.031229</td>\n",
       "      <td>67.334511</td>\n",
       "      <td>71.409116</td>\n",
       "    </tr>\n",
       "    <tr>\n",
       "      <th>2024-07-03</th>\n",
       "      <td>54.728239</td>\n",
       "      <td>37.649797</td>\n",
       "      <td>66.946824</td>\n",
       "      <td>72.979162</td>\n",
       "    </tr>\n",
       "    <tr>\n",
       "      <th>2024-07-04</th>\n",
       "      <td>54.784644</td>\n",
       "      <td>37.620661</td>\n",
       "      <td>68.494151</td>\n",
       "      <td>71.266762</td>\n",
       "    </tr>\n",
       "    <tr>\n",
       "      <th>2024-07-05</th>\n",
       "      <td>56.004410</td>\n",
       "      <td>38.537309</td>\n",
       "      <td>68.181942</td>\n",
       "      <td>68.004949</td>\n",
       "    </tr>\n",
       "  </tbody>\n",
       "</table>\n",
       "<p>5809 rows × 4 columns</p>\n",
       "</div>"
      ],
      "text/plain": [
       "             RELIANCE       SBIN  TATAMOTORS   HDFCBANK\n",
       "Date                                                   \n",
       "2001-03-15   1.000000   1.000000    1.000000   1.000000\n",
       "2001-03-16   0.966646   0.987312    0.960552   0.959356\n",
       "2001-03-19   0.962870   0.984986    0.984221   0.969053\n",
       "2001-03-20   0.939836   0.978220    0.961867   0.946771\n",
       "2001-03-21   1.010195   1.003595    0.972386   0.974417\n",
       "...               ...        ...         ...        ...\n",
       "2024-07-01  55.000571  37.739445   68.758327  70.361044\n",
       "2024-07-02  55.177720  37.031229   67.334511  71.409116\n",
       "2024-07-03  54.728239  37.649797   66.946824  72.979162\n",
       "2024-07-04  54.784644  37.620661   68.494151  71.266762\n",
       "2024-07-05  56.004410  38.537309   68.181942  68.004949\n",
       "\n",
       "[5809 rows x 4 columns]"
      ]
     },
     "execution_count": 39,
     "metadata": {},
     "output_type": "execute_result"
    }
   ],
   "source": [
    "portfolio_df = data_df.copy()\n",
    "scaled_df = price_scaling(portfolio_df)\n",
    "scaled_df"
   ]
  },
  {
   "cell_type": "markdown",
   "metadata": {},
   "source": [
    "Defining a function that tracks the daily value of each stock using the scaled-up dataframe. Additionally, to monitor the portfolio, a separate column is created for the Total Portfolio Value and the daily Percent Change of the portfolio."
   ]
  },
  {
   "cell_type": "code",
   "execution_count": 40,
   "metadata": {},
   "outputs": [],
   "source": [
    "def asset_allocation(df, weights, initial_investment):\n",
    "    for i, stock in enumerate(scaled_df.columns[0:]):\n",
    "        portfolio_df[stock] = weights[i] * scaled_df[stock]  * initial_investment\n",
    "    portfolio_df['Portfolio Value'] = portfolio_df.sum(axis =1,   )\n",
    "    portfolio_df['Portfolio Daily Return [%]'] = portfolio_df['Portfolio Value'].pct_change(1) * 100 \n",
    "    portfolio_df.replace(np.nan, 0, inplace = True)    \n",
    "    return portfolio_df"
   ]
  },
  {
   "cell_type": "markdown",
   "metadata": {},
   "source": [
    "Generating a sample output for the user's portfolio and replacing any misinterpreted values, such as infinity or unavailable data, with 0."
   ]
  },
  {
   "cell_type": "code",
   "execution_count": 82,
   "metadata": {},
   "outputs": [
    {
     "data": {
      "text/html": [
       "<div>\n",
       "<style scoped>\n",
       "    .dataframe tbody tr th:only-of-type {\n",
       "        vertical-align: middle;\n",
       "    }\n",
       "\n",
       "    .dataframe tbody tr th {\n",
       "        vertical-align: top;\n",
       "    }\n",
       "\n",
       "    .dataframe thead th {\n",
       "        text-align: right;\n",
       "    }\n",
       "</style>\n",
       "<table border=\"1\" class=\"dataframe\">\n",
       "  <thead>\n",
       "    <tr style=\"text-align: right;\">\n",
       "      <th></th>\n",
       "      <th>RELIANCE</th>\n",
       "      <th>SBIN</th>\n",
       "      <th>TATAMOTORS</th>\n",
       "      <th>HDFCBANK</th>\n",
       "      <th>Portfolio Value</th>\n",
       "      <th>Portfolio Daily Return [%]</th>\n",
       "    </tr>\n",
       "  </thead>\n",
       "  <tbody>\n",
       "    <tr>\n",
       "      <th>count</th>\n",
       "      <td>5809.000000</td>\n",
       "      <td>5809.000000</td>\n",
       "      <td>5809.000000</td>\n",
       "      <td>5809.000000</td>\n",
       "      <td>5.809000e+03</td>\n",
       "      <td>5809.000000</td>\n",
       "    </tr>\n",
       "    <tr>\n",
       "      <th>mean</th>\n",
       "      <td>3574.839452</td>\n",
       "      <td>2208.333602</td>\n",
       "      <td>3649.583021</td>\n",
       "      <td>6568.450633</td>\n",
       "      <td>7.811211e+07</td>\n",
       "      <td>-3.312764</td>\n",
       "    </tr>\n",
       "    <tr>\n",
       "      <th>std</th>\n",
       "      <td>3720.525851</td>\n",
       "      <td>1604.988556</td>\n",
       "      <td>2853.284623</td>\n",
       "      <td>6606.411383</td>\n",
       "      <td>6.529565e+07</td>\n",
       "      <td>131.009098</td>\n",
       "    </tr>\n",
       "    <tr>\n",
       "      <th>min</th>\n",
       "      <td>0.000000</td>\n",
       "      <td>0.000000</td>\n",
       "      <td>0.000000</td>\n",
       "      <td>0.000000</td>\n",
       "      <td>-5.065130e+05</td>\n",
       "      <td>-5690.968192</td>\n",
       "    </tr>\n",
       "    <tr>\n",
       "      <th>25%</th>\n",
       "      <td>1273.453922</td>\n",
       "      <td>913.978997</td>\n",
       "      <td>1400.905946</td>\n",
       "      <td>1080.512526</td>\n",
       "      <td>2.613476e+07</td>\n",
       "      <td>-0.795421</td>\n",
       "    </tr>\n",
       "    <tr>\n",
       "      <th>50%</th>\n",
       "      <td>2149.453751</td>\n",
       "      <td>2082.941766</td>\n",
       "      <td>2669.706351</td>\n",
       "      <td>3653.874680</td>\n",
       "      <td>5.973811e+07</td>\n",
       "      <td>0.073047</td>\n",
       "    </tr>\n",
       "    <tr>\n",
       "      <th>75%</th>\n",
       "      <td>4752.667605</td>\n",
       "      <td>2770.295474</td>\n",
       "      <td>5696.056021</td>\n",
       "      <td>12032.049223</td>\n",
       "      <td>1.113631e+08</td>\n",
       "      <td>1.020568</td>\n",
       "    </tr>\n",
       "    <tr>\n",
       "      <th>max</th>\n",
       "      <td>15345.872171</td>\n",
       "      <td>8795.506271</td>\n",
       "      <td>15298.375639</td>\n",
       "      <td>21624.311228</td>\n",
       "      <td>2.905344e+08</td>\n",
       "      <td>108.916436</td>\n",
       "    </tr>\n",
       "  </tbody>\n",
       "</table>\n",
       "</div>"
      ],
      "text/plain": [
       "           RELIANCE         SBIN    TATAMOTORS      HDFCBANK  Portfolio Value  \\\n",
       "count   5809.000000  5809.000000   5809.000000   5809.000000     5.809000e+03   \n",
       "mean    3574.839452  2208.333602   3649.583021   6568.450633     7.811211e+07   \n",
       "std     3720.525851  1604.988556   2853.284623   6606.411383     6.529565e+07   \n",
       "min        0.000000     0.000000      0.000000      0.000000    -5.065130e+05   \n",
       "25%     1273.453922   913.978997   1400.905946   1080.512526     2.613476e+07   \n",
       "50%     2149.453751  2082.941766   2669.706351   3653.874680     5.973811e+07   \n",
       "75%     4752.667605  2770.295474   5696.056021  12032.049223     1.113631e+08   \n",
       "max    15345.872171  8795.506271  15298.375639  21624.311228     2.905344e+08   \n",
       "\n",
       "       Portfolio Daily Return [%]  \n",
       "count                 5809.000000  \n",
       "mean                    -3.312764  \n",
       "std                    131.009098  \n",
       "min                  -5690.968192  \n",
       "25%                     -0.795421  \n",
       "50%                      0.073047  \n",
       "75%                      1.020568  \n",
       "max                    108.916436  "
      ]
     },
     "execution_count": 82,
     "metadata": {},
     "output_type": "execute_result"
    }
   ],
   "source": [
    "portfolio1_df = asset_allocation(data_df, weights, initial_investment)\n",
    "portfolio1_df.round(2)\n",
    "portfolio1_df.replace([np.inf, -np.inf], np.nan, inplace=True)\n",
    "portfolio1_df.describe()"
   ]
  },
  {
   "cell_type": "markdown",
   "metadata": {},
   "source": [
    "Defining a function that calculates the return on investment (ROI) based on the initial investment."
   ]
  },
  {
   "cell_type": "code",
   "execution_count": 42,
   "metadata": {},
   "outputs": [
    {
     "name": "stdout",
     "output_type": "stream",
     "text": [
      "The return on Investment is 5548.51 %\n"
     ]
    }
   ],
   "source": [
    "def return_on_investment_(df):\n",
    "    profit = ((df['Portfolio Value'].iloc[-1] - df['Portfolio Value'].iloc[0]) / df['Portfolio Value'].iloc[0]) * 100\n",
    "    return profit\n",
    "a = return_on_investment_(portfolio1_df)\n",
    "print('The return on Investment is', a.round(2), '%')"
   ]
  },
  {
   "cell_type": "markdown",
   "metadata": {},
   "source": [
    "Defining a function that calculates the historical market return of the market index, in this case, Nifty 50, using the yfinance library."
   ]
  },
  {
   "cell_type": "code",
   "execution_count": 43,
   "metadata": {},
   "outputs": [
    {
     "name": "stderr",
     "output_type": "stream",
     "text": [
      "[*********************100%***********************]  1 of 1 completed"
     ]
    },
    {
     "name": "stdout",
     "output_type": "stream",
     "text": [
      "Expected Market Return for Nifty 50: 12.64%\n"
     ]
    },
    {
     "name": "stderr",
     "output_type": "stream",
     "text": [
      "\n"
     ]
    }
   ],
   "source": [
    "def historical_market_return(index_symbol, start_date, end_date):\n",
    "    index_data = yf.download(index_symbol, start=start_date, end=end_date)\n",
    "    index_data['Daily Return'] = index_data['Adj Close'].pct_change()\n",
    "    annual_return = index_data['Daily Return'].mean() * 252  \n",
    "    return annual_return\n",
    "index_symbol = '^NSEI' \n",
    "start_date = Investment_date\n",
    "end_date = '2024-07-10'\n",
    "market_return_value = historical_market_return(index_symbol, start_date, end_date)\n",
    "print(f\"Expected Market Return for Nifty 50: {market_return_value:.2%}\")"
   ]
  },
  {
   "cell_type": "markdown",
   "metadata": {},
   "source": [
    "Defining a function to calculate the beta of a stock using the yfinance library."
   ]
  },
  {
   "cell_type": "code",
   "execution_count": 44,
   "metadata": {},
   "outputs": [],
   "source": [
    "def calculate_beta(stock_ticker, market_ticker, start_date, end_date):\n",
    "    stock_data = yf.download(stock_ticker, start=start_date, end=end_date)\n",
    "    market_data = yf.download(market_ticker, start=start_date, end=end_date)\n",
    "    stock_returns = stock_data['Adj Close'].pct_change().dropna()\n",
    "    market_returns = market_data['Adj Close'].pct_change().dropna()\n",
    "    combined_data = pd.concat([stock_returns, market_returns], axis=1)\n",
    "    combined_data.columns = ['Stock', 'Market']\n",
    "    combined_data.dropna(inplace=True)\n",
    "    cov_matrix = np.cov(combined_data['Stock'], combined_data['Market'])\n",
    "    beta = cov_matrix[0, 1] / cov_matrix[1, 1]\n",
    "    return beta"
   ]
  },
  {
   "cell_type": "markdown",
   "metadata": {},
   "source": [
    "Defining a new List for calculating Beta of the stocks."
   ]
  },
  {
   "cell_type": "code",
   "execution_count": 104,
   "metadata": {},
   "outputs": [
    {
     "name": "stderr",
     "output_type": "stream",
     "text": [
      "[*********************100%***********************]  1 of 1 completed\n",
      "[*********************100%***********************]  1 of 1 completed\n",
      "[*********************100%***********************]  1 of 1 completed\n",
      "[*********************100%***********************]  1 of 1 completed\n",
      "[*********************100%***********************]  1 of 1 completed\n",
      "[*********************100%***********************]  1 of 1 completed\n",
      "[*********************100%***********************]  1 of 1 completed\n",
      "[*********************100%***********************]  1 of 1 completed\n"
     ]
    }
   ],
   "source": [
    "beta = np.zeros(n)\n",
    "beta[0] = calculate_beta('RELIANCE.NS', '^NSEI', Investment_date, end_date) \n",
    "beta[1] = calculate_beta('SBIN.NS', '^NSEI', Investment_date, end_date)  \n",
    "beta[2] = calculate_beta('TATAMOTORS.NS', '^NSEI', Investment_date, end_date) \n",
    "beta[3] = calculate_beta('HDFCBANK.NS', '^NSEI', Investment_date, end_date)"
   ]
  },
  {
   "cell_type": "markdown",
   "metadata": {},
   "source": [
    "Defining a new function to calculate expected annual return of the portfolio."
   ]
  },
  {
   "cell_type": "code",
   "execution_count": 105,
   "metadata": {},
   "outputs": [],
   "source": [
    "def calculate_annual_return(market_free_return, beta, expected_return):\n",
    "    return (expected_return + beta * (expected_return - market_free_return))\n",
    "market_free_return = 0.07\n",
    "expected_annual_return = np.zeros(4)\n",
    "for i in range(0,n):\n",
    "    expected_annual_return[i] = calculate_annual_return(market_free_return, beta[i], market_return_value)"
   ]
  },
  {
   "cell_type": "markdown",
   "metadata": {},
   "source": [
    "Defining a new function to calculate expected annual portfolio return."
   ]
  },
  {
   "cell_type": "code",
   "execution_count": 106,
   "metadata": {},
   "outputs": [
    {
     "name": "stdout",
     "output_type": "stream",
     "text": [
      "The annual expected portfolio return : 19.22 %\n"
     ]
    }
   ],
   "source": [
    "def expected_annual_portfolio_return(expected_annual_return, weights):\n",
    "    annual_return = 0\n",
    "    for i in range(0,n):\n",
    "        annual_return = weights[i] * expected_annual_return[i] + annual_return \n",
    "    return annual_return*100\n",
    "ex = expected_annual_portfolio_return(expected_annual_return, weights)\n",
    "print(f'The annual expected portfolio return : {ex.round(2)} %')"
   ]
  },
  {
   "cell_type": "markdown",
   "metadata": {},
   "source": [
    "Defining a new function of a expected volatility. "
   ]
  },
  {
   "cell_type": "code",
   "execution_count": 73,
   "metadata": {},
   "outputs": [
    {
     "name": "stdout",
     "output_type": "stream",
     "text": [
      "The Expected Volatility of the Portfolio is : 8.27 %\n"
     ]
    }
   ],
   "source": [
    "def expected_volatility(daily_returns):\n",
    "    daily_returns.dropna()\n",
    "    daily_volatility = daily_returns.std()\n",
    "    annualized_volatility = daily_volatility / np.sqrt(252)\n",
    "    return annualized_volatility \n",
    "cd = expected_volatility(portfolio1_df['Portfolio Daily Return [%]']).round(2) \n",
    "print(f'The Expected Volatility of the Portfolio is : {cd} %')"
   ]
  },
  {
   "cell_type": "markdown",
   "metadata": {},
   "source": [
    "Defining a new function to calculate Sharpe Ratio."
   ]
  },
  {
   "cell_type": "code",
   "execution_count": 74,
   "metadata": {},
   "outputs": [
    {
     "name": "stdout",
     "output_type": "stream",
     "text": [
      "The Sharpe Ratio of the Portfolio is: 1.465\n"
     ]
    }
   ],
   "source": [
    "def calculate_sharpe_ratio(rate, market_free_rate, volatility ):\n",
    "    sharpe_ratio = (rate - market_free_rate * 100 )/(volatility)\n",
    "    return sharpe_ratio.round(3)\n",
    "ef = calculate_sharpe_ratio(ex, market_free_return, cd)\n",
    "print(f'The Sharpe Ratio of the Portfolio is: {ef}')"
   ]
  },
  {
   "cell_type": "markdown",
   "metadata": {},
   "source": [
    "Creating the Monte Carlo simulation in this cell starting with creating new set of Lists for Weights, Sharpe Ratio, Expected Portfolio Returns, Volatility, Return on Investment and Final Value of the Portfolio. Later defining a new function called Simulation Engine which basically takes the input of weights and intial investment. The function aims to generate every possible result and store it.  "
   ]
  },
  {
   "cell_type": "code",
   "execution_count": 84,
   "metadata": {},
   "outputs": [],
   "source": [
    "no_of_runs = 10000\n",
    "weights_runs = np.zeros((no_of_runs, n))\n",
    "sharpe_ratio_runs = np.zeros(no_of_runs)\n",
    "expected_portfolio_returns_runs = np.zeros(no_of_runs)\n",
    "volatility_runs = np.zeros(no_of_runs)\n",
    "return_on_investment_runs = np.zeros(no_of_runs)\n",
    "final_value_runs = np.zeros(no_of_runs)\n",
    "def simulation_engine(weights, initial_investment):\n",
    "    portfolio3_df = pd.DataFrame()\n",
    "    portfolio3_df = asset_allocation(data_df, weights, initial_investment)\n",
    "    portfolio3_df.replace([np.inf, -np.inf], np.nan, inplace=True)\n",
    "    return_on_investment_runs[i] = (portfolio3_df['Portfolio Value'].iloc[-1] - \n",
    "                                portfolio3_df['Portfolio Value'].iloc[0]) / portfolio3_df['Portfolio Value'].iloc[0] * 100\n",
    "    expected_portfolio_returns_runs[i] = expected_annual_portfolio_return(expected_annual_return,weights) \n",
    "    volatility_runs[i]= expected_volatility(portfolio3_df['Portfolio Daily Return [%]'])\n",
    "    sharpe_ratio_runs[i] = calculate_sharpe_ratio(expected_portfolio_returns_runs[i] , market_free_return, volatility_runs[i])\n",
    "    return return_on_investment_runs[i].round(2), expected_portfolio_returns_runs[i].round(2), volatility_runs[i].round(2), sharpe_ratio_runs[i]"
   ]
  },
  {
   "cell_type": "markdown",
   "metadata": {},
   "source": [
    "Generating the results"
   ]
  },
  {
   "cell_type": "code",
   "execution_count": 85,
   "metadata": {},
   "outputs": [],
   "source": [
    "for i in range (no_of_runs):\n",
    "    weights = generate_portfolio_weights(n)\n",
    "    weights_runs[i,:] = weights\n",
    "    return_on_investment_runs[i], expected_portfolio_returns_runs[i], volatility_runs[i], sharpe_ratio_runs[i] = simulation_engine(weights, initial_investment)"
   ]
  },
  {
   "cell_type": "markdown",
   "metadata": {},
   "source": [
    "Extracting the iteration with the highest sharpe ratio and similarly the other coefficients. "
   ]
  },
  {
   "cell_type": "code",
   "execution_count": 98,
   "metadata": {},
   "outputs": [],
   "source": [
    "m = sharpe_ratio_runs.argmax()\n",
    "optimal_portfolio_return = return_on_investment_runs[m] * initial_investment\n",
    "optimal_expected_portfolio_return = expected_portfolio_returns_runs[m] \n",
    "optimal_volatility = volatility_runs[m]\n",
    "optimal_sharpe_ratio = sharpe_ratio_runs[m]\n",
    "optimal_weights = weights_runs[m]"
   ]
  },
  {
   "cell_type": "markdown",
   "metadata": {},
   "source": [
    "Final result of the portfolio to understand about the most optimal result."
   ]
  },
  {
   "cell_type": "code",
   "execution_count": 100,
   "metadata": {},
   "outputs": [
    {
     "name": "stdout",
     "output_type": "stream",
     "text": [
      "The Optimal ratio in which the user must allocate the investment must be: [0.00987667 0.07155335 0.89933558 0.0192344 ]\n",
      "This would result in return total: ₹ 5670080.0 from the initial investment of ₹1000\n",
      "Resulting in net return on investment at: 5670.08 %\n",
      "At the annual expected return of : 19.69 %\n",
      "The expected volatility rate is : 8.25\n",
      "The sharpe ratio being: 1.537\n"
     ]
    }
   ],
   "source": [
    "print(f'The Optimal ratio in which the user must allocate the investment must be: {optimal_weights}')\n",
    "print(f'This would result in return total: ₹ {optimal_portfolio_return} from the initial investment of ₹{initial_investment}')\n",
    "print(f'Resulting in net return on investment at: {return_on_investment_runs[m]} %')\n",
    "print(f'At the annual expected return of : {optimal_expected_portfolio_return} %')\n",
    "print(f'The expected volatility rate is : {optimal_volatility}')\n",
    "print(f'The sharpe ratio being: {optimal_sharpe_ratio}')"
   ]
  }
 ],
 "metadata": {
  "kernelspec": {
   "display_name": "Python 3",
   "language": "python",
   "name": "python3"
  },
  "language_info": {
   "codemirror_mode": {
    "name": "ipython",
    "version": 3
   },
   "file_extension": ".py",
   "mimetype": "text/x-python",
   "name": "python",
   "nbconvert_exporter": "python",
   "pygments_lexer": "ipython3",
   "version": "3.12.3"
  }
 },
 "nbformat": 4,
 "nbformat_minor": 2
}
